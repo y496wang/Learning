{
    "cells": [
        {
            "cell_type": "markdown",
            "metadata": {},
            "source": "## Import Test Data"
        },
        {
            "cell_type": "code",
            "execution_count": 1,
            "metadata": {},
            "outputs": [
                {
                    "data": {
                        "text/html": "<div>\n<style scoped>\n    .dataframe tbody tr th:only-of-type {\n        vertical-align: middle;\n    }\n\n    .dataframe tbody tr th {\n        vertical-align: top;\n    }\n\n    .dataframe thead th {\n        text-align: right;\n    }\n</style>\n<table border=\"1\" class=\"dataframe\">\n  <thead>\n    <tr style=\"text-align: right;\">\n      <th></th>\n      <th>ID</th>\n      <th>Name</th>\n      <th>DOB</th>\n      <th>Role</th>\n      <th>Customer Number</th>\n    </tr>\n  </thead>\n  <tbody>\n    <tr>\n      <th>0</th>\n      <td>s9lk2o0sd</td>\n      <td>Yifan Wang</td>\n      <td>1992-08-06</td>\n      <td>Owner</td>\n      <td>46548794</td>\n    </tr>\n    <tr>\n      <th>1</th>\n      <td>s564sfs4</td>\n      <td>John Smith</td>\n      <td>1992-08-07</td>\n      <td>Owner</td>\n      <td>98787646</td>\n    </tr>\n    <tr>\n      <th>2</th>\n      <td>j654ghj8h</td>\n      <td>Laura Smith</td>\n      <td>1992-08-08</td>\n      <td>Owner</td>\n      <td>64983215</td>\n    </tr>\n    <tr>\n      <th>3</th>\n      <td>saf654gd</td>\n      <td>Polo Hunt</td>\n      <td>1992-08-09</td>\n      <td>AI</td>\n      <td>54654983</td>\n    </tr>\n    <tr>\n      <th>4</th>\n      <td>ji61pko</td>\n      <td>John Larry</td>\n      <td>1992-08-10</td>\n      <td>Bene</td>\n      <td>98624652</td>\n    </tr>\n  </tbody>\n</table>\n</div>",
                        "text/plain": "          ID         Name        DOB   Role  Customer Number\n0  s9lk2o0sd   Yifan Wang 1992-08-06  Owner         46548794\n1   s564sfs4   John Smith 1992-08-07  Owner         98787646\n2  j654ghj8h  Laura Smith 1992-08-08  Owner         64983215\n3   saf654gd    Polo Hunt 1992-08-09     AI         54654983\n4    ji61pko   John Larry 1992-08-10   Bene         98624652"
                    },
                    "execution_count": 1,
                    "metadata": {},
                    "output_type": "execute_result"
                }
            ],
            "source": "# The code was removed by Watson Studio for sharing."
        },
        {
            "cell_type": "code",
            "execution_count": null,
            "metadata": {},
            "outputs": [],
            "source": ""
        }
    ],
    "metadata": {
        "kernelspec": {
            "display_name": "Python 3.6",
            "language": "python",
            "name": "python3"
        },
        "language_info": {
            "codemirror_mode": {
                "name": "ipython",
                "version": 3
            },
            "file_extension": ".py",
            "mimetype": "text/x-python",
            "name": "python",
            "nbconvert_exporter": "python",
            "pygments_lexer": "ipython3",
            "version": "3.6.9"
        }
    },
    "nbformat": 4,
    "nbformat_minor": 1
}